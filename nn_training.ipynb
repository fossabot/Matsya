{
 "cells": [
  {
   "cell_type": "code",
   "execution_count": 22,
   "metadata": {},
   "outputs": [],
   "source": [
    "import torch\n",
    "import torch.nn as nn\n",
    "import torch.optim as optim\n",
    "import torch.utils.data as data\n",
    "import pandas as pd"
   ]
  },
  {
   "cell_type": "code",
   "execution_count": 23,
   "metadata": {},
   "outputs": [],
   "source": [
    "# data = pd.read_csv('data/kaggle_data/chessData.csv')\n",
    "data = pd.read_csv('data/chessdata_500k.csv')"
   ]
  },
  {
   "cell_type": "code",
   "execution_count": 24,
   "metadata": {},
   "outputs": [
    {
     "data": {
      "text/html": [
       "<div>\n",
       "<style scoped>\n",
       "    .dataframe tbody tr th:only-of-type {\n",
       "        vertical-align: middle;\n",
       "    }\n",
       "\n",
       "    .dataframe tbody tr th {\n",
       "        vertical-align: top;\n",
       "    }\n",
       "\n",
       "    .dataframe thead th {\n",
       "        text-align: right;\n",
       "    }\n",
       "</style>\n",
       "<table border=\"1\" class=\"dataframe\">\n",
       "  <thead>\n",
       "    <tr style=\"text-align: right;\">\n",
       "      <th></th>\n",
       "      <th>FEN</th>\n",
       "      <th>Evaluation</th>\n",
       "    </tr>\n",
       "  </thead>\n",
       "  <tbody>\n",
       "    <tr>\n",
       "      <th>0</th>\n",
       "      <td>rnbqkbnr/pppppppp/8/8/4P3/8/PPPP1PPP/RNBQKBNR ...</td>\n",
       "      <td>-10</td>\n",
       "    </tr>\n",
       "    <tr>\n",
       "      <th>1</th>\n",
       "      <td>rnbqkbnr/pppp1ppp/4p3/8/4P3/8/PPPP1PPP/RNBQKBN...</td>\n",
       "      <td>+56</td>\n",
       "    </tr>\n",
       "    <tr>\n",
       "      <th>2</th>\n",
       "      <td>rnbqkbnr/pppp1ppp/4p3/8/3PP3/8/PPP2PPP/RNBQKBN...</td>\n",
       "      <td>-9</td>\n",
       "    </tr>\n",
       "    <tr>\n",
       "      <th>3</th>\n",
       "      <td>rnbqkbnr/ppp2ppp/4p3/3p4/3PP3/8/PPP2PPP/RNBQKB...</td>\n",
       "      <td>+52</td>\n",
       "    </tr>\n",
       "    <tr>\n",
       "      <th>4</th>\n",
       "      <td>rnbqkbnr/ppp2ppp/4p3/3p4/3PP3/8/PPPN1PPP/R1BQK...</td>\n",
       "      <td>-26</td>\n",
       "    </tr>\n",
       "  </tbody>\n",
       "</table>\n",
       "</div>"
      ],
      "text/plain": [
       "                                                 FEN Evaluation\n",
       "0  rnbqkbnr/pppppppp/8/8/4P3/8/PPPP1PPP/RNBQKBNR ...        -10\n",
       "1  rnbqkbnr/pppp1ppp/4p3/8/4P3/8/PPPP1PPP/RNBQKBN...        +56\n",
       "2  rnbqkbnr/pppp1ppp/4p3/8/3PP3/8/PPP2PPP/RNBQKBN...         -9\n",
       "3  rnbqkbnr/ppp2ppp/4p3/3p4/3PP3/8/PPP2PPP/RNBQKB...        +52\n",
       "4  rnbqkbnr/ppp2ppp/4p3/3p4/3PP3/8/PPPN1PPP/R1BQK...        -26"
      ]
     },
     "execution_count": 24,
     "metadata": {},
     "output_type": "execute_result"
    }
   ],
   "source": [
    "data.head()"
   ]
  },
  {
   "cell_type": "code",
   "execution_count": 25,
   "metadata": {},
   "outputs": [],
   "source": [
    "class ChessDataset(torch.utils.data.Dataset):\n",
    "    def __init__(self, board, score):\n",
    "        self.board = board\n",
    "        self.score = score\n",
    "\n",
    "    def __len__(self):\n",
    "        return len(self.score)\n",
    "\n",
    "    def __getitem__(self, index):\n",
    "        # print(self.data[index])\n",
    "        board, score = self.board[index], self.score[index]\n",
    "\n",
    "        piece_val_map = {'p':-1,'k':-200,'b':-3,'r':-5,'q':-9,'n':-3,'P':1,'K':200,'B':3,'R':5,'Q':9,'N':3}\n",
    "\n",
    "        input_data = []\n",
    "        for char in board.split(\" \")[0]:\n",
    "            if char.isdigit():\n",
    "                for _ in range(int(char)):\n",
    "                    input_data.append(0)\n",
    "            else:\n",
    "                if char == '/':\n",
    "                    continue\n",
    "                input_data.append(piece_val_map[char])\n",
    "\n",
    "        if board.split(\" \")[1] == \"w\":\n",
    "            input_data.append(1)\n",
    "        else:\n",
    "            input_data.append(0)\n",
    "\n",
    "        if score.startswith(\"#\"):\n",
    "            score = score[1:]\n",
    "        \n",
    "        score= score.replace('\\ufeff', '')\n",
    "            \n",
    "        data = torch.tensor(input_data, dtype=torch.float32)\n",
    "        label = torch.tensor(int(score), dtype=torch.float32)\n",
    "\n",
    "        return data, label"
   ]
  },
  {
   "cell_type": "code",
   "execution_count": 26,
   "metadata": {},
   "outputs": [],
   "source": [
    "dataset = ChessDataset(data['FEN'], data['Evaluation'])"
   ]
  },
  {
   "cell_type": "code",
   "execution_count": 27,
   "metadata": {},
   "outputs": [],
   "source": [
    "dataloader = torch.utils.data.DataLoader(dataset, batch_size=128,\n",
    "                                         shuffle=True, pin_memory=False)"
   ]
  },
  {
   "cell_type": "code",
   "execution_count": 28,
   "metadata": {},
   "outputs": [
    {
     "name": "stdout",
     "output_type": "stream",
     "text": [
      "tensor([   0.,    0.,    0.,    0.,    0.,    0.,    0.,    0.,    0.,   -1.,\n",
      "           0.,    0.,    0.,    0.,    0.,    0.,    0.,    0.,    0.,    0.,\n",
      "        -200.,   -1.,    0.,   -1.,    0.,  200.,    0.,    0.,    0.,    3.,\n",
      "           0.,    0.,   -1.,    0.,    0.,    0.,   -5.,   -3.,    1.,    0.,\n",
      "           0.,    0.,    0.,    0.,    0.,    0.,    0.,    1.,    5.,    0.,\n",
      "           0.,    0.,    0.,    0.,    0.,    0.,    0.,    0.,    0.,    0.,\n",
      "           0.,    0.,    0.,    0.,    1.])\n"
     ]
    }
   ],
   "source": [
    "for data in dataloader:\n",
    "    print(data[0][0])\n",
    "    break"
   ]
  },
  {
   "cell_type": "code",
   "execution_count": 29,
   "metadata": {},
   "outputs": [],
   "source": [
    "class EvalNetwork(nn.Module):\n",
    "    def __init__(self):\n",
    "        super().__init__()\n",
    "        self.input_layer = nn.Linear(65, 1024)\n",
    "        self.hidden_layer = nn.Linear(1024, 512)\n",
    "        self.output_layer = nn.Linear(512, 1)\n",
    "    \n",
    "    def forward(self, x):\n",
    "        x = self.input_layer(x)\n",
    "        x = nn.functional.relu(x)\n",
    "        x = self.hidden_layer(x)\n",
    "        x = nn.functional.relu(x)\n",
    "        x = self.output_layer(x)\n",
    "        return x"
   ]
  },
  {
   "cell_type": "code",
   "execution_count": 30,
   "metadata": {},
   "outputs": [],
   "source": [
    "def train(model, dataloader, optimizer, criterion, epochs, device):\n",
    "    loss_list = []\n",
    "    for epoch in range(epochs):\n",
    "        running_loss = 0.0\n",
    "        for i, (data, target) in enumerate(dataloader):\n",
    "            data = data.to(device)\n",
    "            target = target.to(device)\n",
    "\n",
    "            # Forward pass\n",
    "            output = model(data)\n",
    "\n",
    "            # Loss\n",
    "            loss = criterion(output, target)\n",
    "\n",
    "            # Backward pass\n",
    "            optimizer.zero_grad()\n",
    "            loss.backward()\n",
    "\n",
    "            # Gradient descent\n",
    "            optimizer.step()\n",
    "        \n",
    "        loss_list.append(loss.item())\n",
    "        running_loss += loss.item()\n",
    "        print(f\"Epoch {epoch+1}/{epochs} loss: {loss.item()} runnning_loss: {running_loss/len(dataloader)}\")\n",
    "    return loss_list"
   ]
  },
  {
   "cell_type": "code",
   "execution_count": 31,
   "metadata": {},
   "outputs": [],
   "source": [
    "device = torch.device(\"cuda\" if torch.cuda.is_available() else \"cpu\")"
   ]
  },
  {
   "cell_type": "code",
   "execution_count": 32,
   "metadata": {},
   "outputs": [
    {
     "data": {
      "text/plain": [
       "EvalNetwork(\n",
       "  (input_layer): Linear(in_features=65, out_features=1024, bias=True)\n",
       "  (hidden_layer): Linear(in_features=1024, out_features=512, bias=True)\n",
       "  (output_layer): Linear(in_features=512, out_features=1, bias=True)\n",
       ")"
      ]
     },
     "execution_count": 32,
     "metadata": {},
     "output_type": "execute_result"
    }
   ],
   "source": [
    "model = EvalNetwork()\n",
    "model.to(device)"
   ]
  },
  {
   "cell_type": "code",
   "execution_count": 33,
   "metadata": {},
   "outputs": [
    {
     "name": "stderr",
     "output_type": "stream",
     "text": [
      "c:\\Users\\dahiy_uokx4\\AppData\\Local\\Programs\\Python\\Python39\\lib\\site-packages\\torch\\nn\\modules\\loss.py:530: UserWarning: Using a target size (torch.Size([128])) that is different to the input size (torch.Size([128, 1])). This will likely lead to incorrect results due to broadcasting. Please ensure they have the same size.\n",
      "  return F.mse_loss(input, target, reduction=self.reduction)\n",
      "c:\\Users\\dahiy_uokx4\\AppData\\Local\\Programs\\Python\\Python39\\lib\\site-packages\\torch\\nn\\modules\\loss.py:530: UserWarning: Using a target size (torch.Size([32])) that is different to the input size (torch.Size([32, 1])). This will likely lead to incorrect results due to broadcasting. Please ensure they have the same size.\n",
      "  return F.mse_loss(input, target, reduction=self.reduction)\n"
     ]
    },
    {
     "name": "stdout",
     "output_type": "stream",
     "text": [
      "Epoch 1/100 loss: 168404.0 runnning_loss: 43.10314819554645\n",
      "Epoch 2/100 loss: 68533.046875 runnning_loss: 17.54109211031482\n",
      "Epoch 3/100 loss: 147437.34375 runnning_loss: 37.73671455080625\n",
      "Epoch 4/100 loss: 285900.96875 runnning_loss: 73.1765980931661\n",
      "Epoch 5/100 loss: 86262.7265625 runnning_loss: 22.07901882838495\n",
      "Epoch 6/100 loss: 92546.3671875 runnning_loss: 23.68732203416944\n",
      "Epoch 7/100 loss: 1234666.625 runnning_loss: 316.0139813155874\n",
      "Epoch 8/100 loss: 76189.4296875 runnning_loss: 19.500749856027642\n",
      "Epoch 9/100 loss: 148507.09375 runnning_loss: 38.01051798054773\n",
      "Epoch 10/100 loss: 128308.78125 runnning_loss: 32.84074257742513\n",
      "Epoch 11/100 loss: 100572.2265625 runnning_loss: 25.741547622856412\n",
      "Epoch 12/100 loss: 113901.65625 runnning_loss: 29.153226580496543\n",
      "Epoch 13/100 loss: 107153.078125 runnning_loss: 27.425922222933195\n",
      "Epoch 14/100 loss: 743469.25 runnning_loss: 190.29159201433325\n",
      "Epoch 15/100 loss: 32026.6171875 runnning_loss: 8.19724012989506\n",
      "Epoch 16/100 loss: 56655.5625 runnning_loss: 14.501039800358331\n",
      "Epoch 17/100 loss: 1143915.25 runnning_loss: 292.7860890708984\n",
      "Epoch 18/100 loss: 117911.71875 runnning_loss: 30.179605515740977\n",
      "Epoch 19/100 loss: 159181.171875 runnning_loss: 40.74255742897364\n",
      "Epoch 20/100 loss: 159455.5625 runnning_loss: 40.812787944714614\n",
      "Epoch 21/100 loss: 1681547.875 runnning_loss: 430.3936204248784\n",
      "Epoch 22/100 loss: 1047880.75 runnning_loss: 268.2059764525211\n",
      "Epoch 23/100 loss: 72212.203125 runnning_loss: 18.48277530714103\n",
      "Epoch 24/100 loss: 1214549.75 runnning_loss: 310.8650499104172\n",
      "Epoch 25/100 loss: 54597.953125 runnning_loss: 13.97439291656002\n",
      "Epoch 26/100 loss: 77840.9375 runnning_loss: 19.923454696698233\n",
      "Epoch 27/100 loss: 104383.34375 runnning_loss: 26.717006334783722\n",
      "Epoch 28/100 loss: 133083.34375 runnning_loss: 34.06279594317891\n",
      "Epoch 29/100 loss: 112087.328125 runnning_loss: 28.688847741233683\n",
      "Epoch 30/100 loss: 53632.26171875 runnning_loss: 13.727223373112363\n",
      "Epoch 31/100 loss: 20387.30078125 runnning_loss: 5.2181471157537755\n",
      "Epoch 32/100 loss: 347283.0625 runnning_loss: 88.88739761965702\n",
      "Epoch 33/100 loss: 87627.8046875 runnning_loss: 22.42841174494497\n",
      "Epoch 34/100 loss: 67623.0546875 runnning_loss: 17.308178829664705\n",
      "Epoch 35/100 loss: 155132.078125 runnning_loss: 39.70618841182493\n",
      "Epoch 36/100 loss: 102221.015625 runnning_loss: 26.16355659713335\n",
      "Epoch 37/100 loss: 123601.8671875 runnning_loss: 31.636003887253647\n",
      "Epoch 38/100 loss: 1403325.0 runnning_loss: 359.18223701049396\n",
      "Epoch 39/100 loss: 1101045.75 runnning_loss: 281.81360378807267\n",
      "Epoch 40/100 loss: 67643.296875 runnning_loss: 17.313359834911697\n",
      "Epoch 41/100 loss: 300649.3125 runnning_loss: 76.95144932173022\n",
      "Epoch 42/100 loss: 321167.0625 runnning_loss: 82.20298502687484\n",
      "Epoch 43/100 loss: 1290722.375 runnning_loss: 330.36149859227027\n",
      "Epoch 44/100 loss: 155174.71875 runnning_loss: 39.71710231635526\n",
      "Epoch 45/100 loss: 1536673.0 runnning_loss: 393.312771947786\n",
      "Epoch 46/100 loss: 81547.171875 runnning_loss: 20.872068562835935\n",
      "Epoch 47/100 loss: 19700.015625 runnning_loss: 5.042235890708984\n",
      "Epoch 48/100 loss: 127084.8515625 runnning_loss: 32.527476724468904\n",
      "Epoch 49/100 loss: 1149109.5 runnning_loss: 294.11556181213206\n",
      "Epoch 50/100 loss: 75141.203125 runnning_loss: 19.232455368569234\n",
      "Epoch 51/100 loss: 262006.46875 runnning_loss: 67.06078033017661\n",
      "Epoch 52/100 loss: 69489.9609375 runnning_loss: 17.78601508510366\n",
      "Epoch 53/100 loss: 28678.625 runnning_loss: 7.340318658817507\n",
      "Epoch 54/100 loss: 67537.40625 runnning_loss: 17.28625703864858\n",
      "Epoch 55/100 loss: 105854.7734375 runnning_loss: 27.093620024955207\n",
      "Epoch 56/100 loss: 274247.375 runnning_loss: 70.19385078065011\n",
      "Epoch 57/100 loss: 233010.21875 runnning_loss: 59.63916528026619\n",
      "Epoch 58/100 loss: 171952.8125 runnning_loss: 44.011469797798824\n",
      "Epoch 59/100 loss: 1565056.375 runnning_loss: 400.57752111594573\n",
      "Epoch 60/100 loss: 992947.5625 runnning_loss: 254.14578001023804\n",
      "Epoch 61/100 loss: 1265596.625 runnning_loss: 323.93054133606347\n",
      "Epoch 62/100 loss: 130021.984375 runnning_loss: 33.27923838622984\n",
      "Epoch 63/100 loss: 109837.7109375 runnning_loss: 28.113056293191708\n",
      "Epoch 64/100 loss: 137342.875 runnning_loss: 35.15302661888917\n",
      "Epoch 65/100 loss: 110220.1484375 runnning_loss: 28.21094149923215\n",
      "Epoch 66/100 loss: 21565.83203125 runnning_loss: 5.519793199705656\n",
      "Epoch 67/100 loss: 268190.9375 runnning_loss: 68.64370040952137\n",
      "Epoch 68/100 loss: 59910.734375 runnning_loss: 15.33420383286409\n",
      "Epoch 69/100 loss: 344068.75 runnning_loss: 88.06469157921678\n",
      "Epoch 70/100 loss: 381863.125 runnning_loss: 97.73819426670079\n",
      "Epoch 71/100 loss: 1179772.5 runnning_loss: 301.9637829536729\n",
      "Epoch 72/100 loss: 317722.0 runnning_loss: 81.3212183260814\n",
      "Epoch 73/100 loss: 91525.3046875 runnning_loss: 23.425980211799335\n",
      "Epoch 74/100 loss: 37123.6640625 runnning_loss: 9.501833647939595\n",
      "Epoch 75/100 loss: 1820781.5 runnning_loss: 466.03058612746355\n",
      "Epoch 76/100 loss: 1789422.75 runnning_loss: 458.004287176862\n",
      "Epoch 77/100 loss: 45454.41796875 runnning_loss: 11.634097253327361\n",
      "Epoch 78/100 loss: 161569.703125 runnning_loss: 41.35390405042232\n",
      "Epoch 79/100 loss: 361312.34375 runnning_loss: 92.47820418479652\n",
      "Epoch 80/100 loss: 1188493.375 runnning_loss: 304.1958983875096\n",
      "Epoch 81/100 loss: 28241.234375 runnning_loss: 7.228368153314563\n",
      "Epoch 82/100 loss: 55132.078125 runnning_loss: 14.111102668287689\n",
      "Epoch 83/100 loss: 273720.84375 runnning_loss: 70.05908465574609\n",
      "Epoch 84/100 loss: 1866858.0 runnning_loss: 477.82390581008445\n",
      "Epoch 85/100 loss: 198377.125 runnning_loss: 50.77479523931405\n",
      "Epoch 86/100 loss: 1060409.5 runnning_loss: 271.4127207576145\n",
      "Epoch 87/100 loss: 34577.4296875 runnning_loss: 8.850122776426925\n",
      "Epoch 88/100 loss: 826354.125 runnning_loss: 211.5060468390069\n",
      "Epoch 89/100 loss: 889213.6875 runnning_loss: 227.5950057588943\n",
      "Epoch 90/100 loss: 100603.6015625 runnning_loss: 25.749578081008448\n",
      "Epoch 91/100 loss: 118770.078125 runnning_loss: 30.399303333759917\n",
      "Epoch 92/100 loss: 165819.59375 runnning_loss: 42.44166719989762\n",
      "Epoch 93/100 loss: 111406.125 runnning_loss: 28.514493217302277\n",
      "Epoch 94/100 loss: 41019.4453125 runnning_loss: 10.498962199257743\n",
      "Epoch 95/100 loss: 126583.3125 runnning_loss: 32.399107371384694\n",
      "Epoch 96/100 loss: 73148.96875 runnning_loss: 18.722541272075762\n",
      "Epoch 97/100 loss: 52918.8515625 runnning_loss: 13.544625431917073\n",
      "Epoch 98/100 loss: 235830.84375 runnning_loss: 60.361106667519834\n",
      "Epoch 99/100 loss: 161307.8125 runnning_loss: 41.28687292039928\n",
      "Epoch 100/100 loss: 369370.21875 runnning_loss: 94.54062420015357\n"
     ]
    }
   ],
   "source": [
    "# create the loss function\n",
    "criterion = nn.MSELoss()\n",
    "\n",
    "# create the optimizer\n",
    "optimizer = optim.Adam(model.parameters(), lr=0.001)\n",
    "\n",
    "# num of epochs\n",
    "epochs = 100\n",
    "\n",
    "# train the model\n",
    "loss_list = train(model, dataloader,  optimizer, criterion,epochs, device)\n"
   ]
  },
  {
   "cell_type": "code",
   "execution_count": 34,
   "metadata": {},
   "outputs": [],
   "source": [
    "with torch.no_grad():\n",
    "    y_eval = model.forward(torch.tensor([0.,0.,0.,0.,-5.,   -3., -200.,    0.,    0.,    0.,\n",
    "          -1.,   -9.,    0.,   -1.,   -1.,    0.,   -1.,    0.,   -3.,    0.,\n",
    "          -5.,    0.,    0.,   -1.,    0.,   -1.,    0.,    0.,    0.,    0.,\n",
    "           0.,    0.,    0.,    1.,    0.,    0.,    3.,   -1.,    0.,    0.,\n",
    "           1.,    0.,    1.,    1.,    0.,    3.,    0.,    0.,    0.,    0.,\n",
    "           9.,    0.,    0.,    1.,    1.,    1.,    5.,    0.,    0.,    5.,\n",
    "           0.,    0.,  200.,    0.,    0.], dtype=torch.float32).to(device))"
   ]
  },
  {
   "cell_type": "code",
   "execution_count": 35,
   "metadata": {},
   "outputs": [
    {
     "data": {
      "text/plain": [
       "tensor([39.8190], device='cuda:0')"
      ]
     },
     "execution_count": 35,
     "metadata": {},
     "output_type": "execute_result"
    }
   ],
   "source": [
    "y_eval"
   ]
  },
  {
   "cell_type": "code",
   "execution_count": 36,
   "metadata": {},
   "outputs": [],
   "source": [
    "torch.save(model.state_dict(), \"model/nn_1024_512_other.pt\")"
   ]
  },
  {
   "cell_type": "code",
   "execution_count": 24,
   "metadata": {},
   "outputs": [
    {
     "data": {
      "text/plain": [
       "EvalNetwork(\n",
       "  (input_layer): Linear(in_features=65, out_features=1024, bias=True)\n",
       "  (hidden_layer): Linear(in_features=1024, out_features=512, bias=True)\n",
       "  (output_layer): Linear(in_features=512, out_features=1, bias=True)\n",
       ")"
      ]
     },
     "execution_count": 24,
     "metadata": {},
     "output_type": "execute_result"
    }
   ],
   "source": [
    "model"
   ]
  },
  {
   "cell_type": "code",
   "execution_count": null,
   "metadata": {},
   "outputs": [],
   "source": [
    "model.output_layer.weight.shape"
   ]
  },
  {
   "cell_type": "code",
   "execution_count": null,
   "metadata": {},
   "outputs": [],
   "source": []
  }
 ],
 "metadata": {
  "kernelspec": {
   "display_name": "Python 3",
   "language": "python",
   "name": "python3"
  },
  "language_info": {
   "codemirror_mode": {
    "name": "ipython",
    "version": 3
   },
   "file_extension": ".py",
   "mimetype": "text/x-python",
   "name": "python",
   "nbconvert_exporter": "python",
   "pygments_lexer": "ipython3",
   "version": "3.9.13"
  },
  "orig_nbformat": 4
 },
 "nbformat": 4,
 "nbformat_minor": 2
}
